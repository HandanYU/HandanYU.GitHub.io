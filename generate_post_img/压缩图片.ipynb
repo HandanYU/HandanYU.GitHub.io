{
 "cells": [
  {
   "cell_type": "code",
   "execution_count": 1,
   "metadata": {
    "ExecuteTime": {
     "end_time": "2022-01-17T08:30:42.265760Z",
     "start_time": "2022-01-17T08:30:41.931101Z"
    }
   },
   "outputs": [],
   "source": [
    "import os\n",
    "import cv2"
   ]
  },
  {
   "cell_type": "code",
   "execution_count": 3,
   "metadata": {
    "ExecuteTime": {
     "end_time": "2022-01-17T08:30:49.732194Z",
     "start_time": "2022-01-17T08:30:49.726762Z"
    }
   },
   "outputs": [],
   "source": [
    "import cv2\n",
    "def reSize(infile,outfile,size):\n",
    "    im = cv2.imread(infile)\n",
    "    out = cv2.resize(im,size , interpolation=cv2.INTER_AREA)\n",
    "    cv2.imwrite(outfile, out)\n",
    "outfile_dict = {'lg':(1999,1125),'md':(991,557),'placehold':(230,129),'sm':(767,431),'thumb':(535,301),'thumb@2x':(1070,602),'xs':(575,323)}\n",
    "\n",
    "\n",
    "\n",
    "\n",
    "    "
   ]
  },
  {
   "cell_type": "code",
   "execution_count": 10,
   "metadata": {
    "ExecuteTime": {
     "end_time": "2022-01-14T12:02:48.539088Z",
     "start_time": "2022-01-14T12:02:48.531892Z"
    }
   },
   "outputs": [],
   "source": [
    "infile = './img/favicon.png'\n",
    "outfile = './img_new/android-chrome-192x192.png'\n",
    "reSize(infile,outfile,(192,192))"
   ]
  },
  {
   "cell_type": "code",
   "execution_count": 4,
   "metadata": {
    "ExecuteTime": {
     "end_time": "2022-01-17T08:30:53.514639Z",
     "start_time": "2022-01-17T08:30:51.009707Z"
    }
   },
   "outputs": [
    {
     "name": "stdout",
     "output_type": "stream",
     "text": [
      "+++++++++++++++\n",
      "./img/.DS_Store\n",
      "+++++++++++++++\n",
      "./img/集成学习.jpg\n",
      "lg (1999, 1125)\n",
      "True\n",
      "md (991, 557)\n",
      "True\n",
      "placehold (230, 129)\n",
      "True\n",
      "sm (767, 431)\n",
      "True\n",
      "thumb (535, 301)\n",
      "True\n",
      "thumb@2x (1070, 602)\n",
      "True\n",
      "xs (575, 323)\n",
      "True\n",
      "+++++++++++++++\n",
      "./img/PyTorch.jpg\n",
      "lg (1999, 1125)\n",
      "True\n",
      "md (991, 557)\n",
      "True\n",
      "placehold (230, 129)\n",
      "True\n",
      "sm (767, 431)\n",
      "True\n",
      "thumb (535, 301)\n",
      "True\n",
      "thumb@2x (1070, 602)\n",
      "True\n",
      "xs (575, 323)\n",
      "True\n"
     ]
    }
   ],
   "source": [
    "for file in os.listdir('./img'):\n",
    "    Name = file.split('.')[0]\n",
    "    infile = './img/'+file\n",
    "    print('+++++++++++++++')\n",
    "    print(infile)\n",
    "    if '.jpg' in infile or '.jpeg' in infile:\n",
    "        for i,j in outfile_dict.items():\n",
    "            outfile = './img_new/'+Name+f'_{i}.jpg'\n",
    "            print(i,j)\n",
    "            reSize(infile,outfile,j)\n",
    "            print(True)\n"
   ]
  },
  {
   "cell_type": "code",
   "execution_count": 8,
   "metadata": {
    "ExecuteTime": {
     "end_time": "2022-01-14T08:00:00.804123Z",
     "start_time": "2022-01-14T07:59:59.537786Z"
    }
   },
   "outputs": [
    {
     "name": "stdout",
     "output_type": "stream",
     "text": [
      "lg (1999, 1125)\n",
      "True\n",
      "md (991, 557)\n",
      "True\n",
      "placehold (230, 129)\n",
      "True\n",
      "sm (767, 431)\n",
      "True\n",
      "thumb (535, 301)\n",
      "True\n",
      "thumb@2x (1070, 602)\n",
      "True\n",
      "xs (575, 323)\n",
      "True\n"
     ]
    }
   ],
   "source": []
  },
  {
   "cell_type": "code",
   "execution_count": 1,
   "metadata": {
    "ExecuteTime": {
     "end_time": "2022-01-14T01:28:15.477359Z",
     "start_time": "2022-01-14T01:28:11.400432Z"
    }
   },
   "outputs": [
    {
     "ename": "error",
     "evalue": "OpenCV(4.1.1) /Users/travis/build/skvark/opencv-python/opencv/modules/imgcodecs/src/loadsave.cpp:662: error: (-2:Unspecified error) could not find a writer for the specified extension in function 'imwrite_'\n",
     "output_type": "error",
     "traceback": [
      "\u001b[0;31m---------------------------------------------------------------------------\u001b[0m",
      "\u001b[0;31merror\u001b[0m                                     Traceback (most recent call last)",
      "\u001b[0;32m<ipython-input-1-491cc7330311>\u001b[0m in \u001b[0;36m<module>\u001b[0;34m()\u001b[0m\n\u001b[1;32m     36\u001b[0m \u001b[0;34m\u001b[0m\u001b[0m\n\u001b[1;32m     37\u001b[0m \u001b[0;32mif\u001b[0m \u001b[0m__name__\u001b[0m \u001b[0;34m==\u001b[0m \u001b[0;34m'__main__'\u001b[0m\u001b[0;34m:\u001b[0m\u001b[0;34m\u001b[0m\u001b[0;34m\u001b[0m\u001b[0m\n\u001b[0;32m---> 38\u001b[0;31m     \u001b[0mmain\u001b[0m\u001b[0;34m(\u001b[0m\u001b[0;34m)\u001b[0m\u001b[0;34m\u001b[0m\u001b[0;34m\u001b[0m\u001b[0m\n\u001b[0m",
      "\u001b[0;32m<ipython-input-1-491cc7330311>\u001b[0m in \u001b[0;36mmain\u001b[0;34m()\u001b[0m\n\u001b[1;32m     33\u001b[0m     \u001b[0mt\u001b[0m \u001b[0;34m=\u001b[0m \u001b[0mbuild_tasks\u001b[0m\u001b[0;34m(\u001b[0m\u001b[0mp\u001b[0m\u001b[0;34m,\u001b[0m \u001b[0msquare_tasks\u001b[0m\u001b[0;34m(\u001b[0m\u001b[0ms\u001b[0m\u001b[0;34m)\u001b[0m\u001b[0;34m)\u001b[0m\u001b[0;34m\u001b[0m\u001b[0;34m\u001b[0m\u001b[0m\n\u001b[1;32m     34\u001b[0m     \u001b[0mimg\u001b[0m \u001b[0;34m=\u001b[0m \u001b[0mread_img\u001b[0m\u001b[0;34m(\u001b[0m\u001b[0mi\u001b[0m\u001b[0;34m)\u001b[0m\u001b[0;34m\u001b[0m\u001b[0;34m\u001b[0m\u001b[0m\n\u001b[0;32m---> 35\u001b[0;31m     \u001b[0mresize_all\u001b[0m\u001b[0;34m(\u001b[0m\u001b[0mimg\u001b[0m\u001b[0;34m,\u001b[0m \u001b[0mt\u001b[0m\u001b[0;34m)\u001b[0m\u001b[0;34m\u001b[0m\u001b[0;34m\u001b[0m\u001b[0m\n\u001b[0m\u001b[1;32m     36\u001b[0m \u001b[0;34m\u001b[0m\u001b[0m\n\u001b[1;32m     37\u001b[0m \u001b[0;32mif\u001b[0m \u001b[0m__name__\u001b[0m \u001b[0;34m==\u001b[0m \u001b[0;34m'__main__'\u001b[0m\u001b[0;34m:\u001b[0m\u001b[0;34m\u001b[0m\u001b[0;34m\u001b[0m\u001b[0m\n",
      "\u001b[0;32m<ipython-input-1-491cc7330311>\u001b[0m in \u001b[0;36mresize_all\u001b[0;34m(img, tasks)\u001b[0m\n\u001b[1;32m     14\u001b[0m \u001b[0;32mdef\u001b[0m \u001b[0mresize_all\u001b[0m\u001b[0;34m(\u001b[0m\u001b[0mimg\u001b[0m\u001b[0;34m,\u001b[0m \u001b[0mtasks\u001b[0m\u001b[0;34m)\u001b[0m\u001b[0;34m:\u001b[0m\u001b[0;34m\u001b[0m\u001b[0;34m\u001b[0m\u001b[0m\n\u001b[1;32m     15\u001b[0m     \u001b[0;32mfor\u001b[0m \u001b[0;34m(\u001b[0m\u001b[0msize\u001b[0m\u001b[0;34m,\u001b[0m \u001b[0moutpath\u001b[0m\u001b[0;34m)\u001b[0m \u001b[0;32min\u001b[0m \u001b[0mtasks\u001b[0m\u001b[0;34m:\u001b[0m\u001b[0;34m\u001b[0m\u001b[0;34m\u001b[0m\u001b[0m\n\u001b[0;32m---> 16\u001b[0;31m         \u001b[0mresize_one\u001b[0m\u001b[0;34m(\u001b[0m\u001b[0mimg\u001b[0m\u001b[0;34m,\u001b[0m \u001b[0msize\u001b[0m\u001b[0;34m,\u001b[0m \u001b[0moutpath\u001b[0m\u001b[0;34m)\u001b[0m\u001b[0;34m\u001b[0m\u001b[0;34m\u001b[0m\u001b[0m\n\u001b[0m\u001b[1;32m     17\u001b[0m \u001b[0;34m\u001b[0m\u001b[0m\n\u001b[1;32m     18\u001b[0m \u001b[0;32mdef\u001b[0m \u001b[0mbuild_tasks\u001b[0m\u001b[0;34m(\u001b[0m\u001b[0mprefix\u001b[0m\u001b[0;34m,\u001b[0m \u001b[0msizes\u001b[0m\u001b[0;34m)\u001b[0m\u001b[0;34m:\u001b[0m\u001b[0;34m\u001b[0m\u001b[0;34m\u001b[0m\u001b[0m\n",
      "\u001b[0;32m<ipython-input-1-491cc7330311>\u001b[0m in \u001b[0;36mresize_one\u001b[0;34m(img, size, outpath)\u001b[0m\n\u001b[1;32m     10\u001b[0m     \u001b[0;31m# out.save(outpath)\u001b[0m\u001b[0;34m\u001b[0m\u001b[0;34m\u001b[0m\u001b[0;34m\u001b[0m\u001b[0m\n\u001b[1;32m     11\u001b[0m     \u001b[0mout\u001b[0m \u001b[0;34m=\u001b[0m \u001b[0mcv2\u001b[0m\u001b[0;34m.\u001b[0m\u001b[0mresize\u001b[0m\u001b[0;34m(\u001b[0m\u001b[0mimg\u001b[0m\u001b[0;34m,\u001b[0m \u001b[0msize\u001b[0m\u001b[0;34m,\u001b[0m \u001b[0minterpolation\u001b[0m\u001b[0;34m=\u001b[0m\u001b[0mcv2\u001b[0m\u001b[0;34m.\u001b[0m\u001b[0mINTER_AREA\u001b[0m\u001b[0;34m)\u001b[0m\u001b[0;34m\u001b[0m\u001b[0;34m\u001b[0m\u001b[0m\n\u001b[0;32m---> 12\u001b[0;31m     \u001b[0mcv2\u001b[0m\u001b[0;34m.\u001b[0m\u001b[0mimwrite\u001b[0m\u001b[0;34m(\u001b[0m\u001b[0moutpath\u001b[0m\u001b[0;34m,\u001b[0m \u001b[0mout\u001b[0m\u001b[0;34m)\u001b[0m\u001b[0;34m\u001b[0m\u001b[0;34m\u001b[0m\u001b[0m\n\u001b[0m\u001b[1;32m     13\u001b[0m \u001b[0;34m\u001b[0m\u001b[0m\n\u001b[1;32m     14\u001b[0m \u001b[0;32mdef\u001b[0m \u001b[0mresize_all\u001b[0m\u001b[0;34m(\u001b[0m\u001b[0mimg\u001b[0m\u001b[0;34m,\u001b[0m \u001b[0mtasks\u001b[0m\u001b[0;34m)\u001b[0m\u001b[0;34m:\u001b[0m\u001b[0;34m\u001b[0m\u001b[0;34m\u001b[0m\u001b[0m\n",
      "\u001b[0;31merror\u001b[0m: OpenCV(4.1.1) /Users/travis/build/skvark/opencv-python/opencv/modules/imgcodecs/src/loadsave.cpp:662: error: (-2:Unspecified error) could not find a writer for the specified extension in function 'imwrite_'\n"
     ]
    }
   ],
   "source": [
    "# from PIL import Image\n",
    "import cv2\n",
    "\n",
    "def read_img(frompath):\n",
    "    # return Image.open(frompath)\n",
    "    return cv2.imread(frompath)\n",
    "\n",
    "def resize_one(img, size, outpath):\n",
    "    # out = img.resize(size)\n",
    "    # out.save(outpath)\n",
    "    out = cv2.resize(img, size, interpolation=cv2.INTER_AREA)\n",
    "    cv2.imwrite(outpath, out)\n",
    "\n",
    "def resize_all(img, tasks):\n",
    "    for (size, outpath) in tasks:\n",
    "        resize_one(img, size, outpath)\n",
    "\n",
    "def build_tasks(prefix, sizes):\n",
    "    t = []\n",
    "    for (x, y) in sizes:\n",
    "        t.append(((x, y), prefix + '-' + str(x) + 'x' + str(y) + '.ico'))\n",
    "    return t\n",
    "def square_tasks(widths):\n",
    "    t = []\n",
    "    for w in widths:\n",
    "        t.append((w, w))\n",
    "    return t\n",
    "\n",
    "def main():\n",
    "    s = [16,32,150,192,256]\n",
    "    p = 'favicon'\n",
    "    i = './favicon.jpg'\n",
    "    t = build_tasks(p, square_tasks(s))\n",
    "    img = read_img(i)\n",
    "    resize_all(img, t)\n",
    "\n",
    "if __name__ == '__main__':\n",
    "    main()\n"
   ]
  },
  {
   "cell_type": "code",
   "execution_count": null,
   "metadata": {},
   "outputs": [],
   "source": []
  }
 ],
 "metadata": {
  "kernelspec": {
   "display_name": "Python 3",
   "language": "python",
   "name": "python3"
  },
  "language_info": {
   "codemirror_mode": {
    "name": "ipython",
    "version": 3
   },
   "file_extension": ".py",
   "mimetype": "text/x-python",
   "name": "python",
   "nbconvert_exporter": "python",
   "pygments_lexer": "ipython3",
   "version": "3.7.2"
  },
  "latex_envs": {
   "LaTeX_envs_menu_present": true,
   "autoclose": false,
   "autocomplete": true,
   "bibliofile": "biblio.bib",
   "cite_by": "apalike",
   "current_citInitial": 1,
   "eqLabelWithNumbers": true,
   "eqNumInitial": 1,
   "hotkeys": {
    "equation": "Ctrl-E",
    "itemize": "Ctrl-I"
   },
   "labels_anchors": false,
   "latex_user_defs": false,
   "report_style_numbering": false,
   "user_envs_cfg": false
  },
  "toc": {
   "base_numbering": 1,
   "nav_menu": {},
   "number_sections": true,
   "sideBar": true,
   "skip_h1_title": false,
   "title_cell": "Table of Contents",
   "title_sidebar": "Contents",
   "toc_cell": false,
   "toc_position": {},
   "toc_section_display": true,
   "toc_window_display": false
  }
 },
 "nbformat": 4,
 "nbformat_minor": 2
}
